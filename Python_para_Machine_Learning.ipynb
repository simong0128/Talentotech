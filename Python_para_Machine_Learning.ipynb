{
  "nbformat": 4,
  "nbformat_minor": 0,
  "metadata": {
    "colab": {
      "provenance": [],
      "include_colab_link": true
    },
    "kernelspec": {
      "name": "python3",
      "display_name": "Python 3"
    },
    "language_info": {
      "name": "python"
    }
  },
  "cells": [
    {
      "cell_type": "markdown",
      "metadata": {
        "id": "view-in-github",
        "colab_type": "text"
      },
      "source": [
        "<a href=\"https://colab.research.google.com/github/simong0128/Talentotech/blob/main/Python_para_Machine_Learning.ipynb\" target=\"_parent\"><img src=\"https://colab.research.google.com/assets/colab-badge.svg\" alt=\"Open In Colab\"/></a>"
      ]
    },
    {
      "cell_type": "markdown",
      "source": [
        "# Módulo 1 - Fundamentos de Python\n",
        "* Tu primer programa\n",
        "* Tipos\n",
        "* Expresiones y Variables\n",
        "* Operaciones con Cadenas\n",
        "\n"
      ],
      "metadata": {
        "id": "PR71j5u7gZVv"
      }
    },
    {
      "cell_type": "code",
      "execution_count": null,
      "metadata": {
        "id": "cxIre3kqgWis"
      },
      "outputs": [],
      "source": []
    },
    {
      "cell_type": "markdown",
      "source": [
        "# Módulo 2 - Estructuras de Datos en Python\n",
        "* Listas y Tuplas\n",
        "* Conjuntos\n",
        "* Diccionarios\n",
        "\n"
      ],
      "metadata": {
        "id": "nCfOwdP3hC3E"
      }
    },
    {
      "cell_type": "code",
      "source": [
        "mi_lista = ['Mercado', 280000, True, ['Pan', 'Arroz', 'Carne'], 34.5]\n",
        "mi_lista"
      ],
      "metadata": {
        "id": "8BwvDdKQhEys",
        "outputId": "80911e71-5a60-4018-be6d-5539f09b75c1",
        "colab": {
          "base_uri": "https://localhost:8080/"
        }
      },
      "execution_count": null,
      "outputs": [
        {
          "output_type": "execute_result",
          "data": {
            "text/plain": [
              "['Mercado', 280000, True, ['Pan', 'Arroz', 'Carne'], 34.5]"
            ]
          },
          "metadata": {},
          "execution_count": 1
        }
      ]
    },
    {
      "cell_type": "code",
      "source": [
        "# Métodos de Listas:\n",
        "# Agregar Elementos a la lista:\n",
        "mi_lista.append('Almacenes Éxito')\n",
        "print(mi_lista)\n",
        "\n",
        "# Eliminar cualquier elemento de la lista :\n",
        "# mi_lista.remove(280000)         # Le paso el método con el valor a buscar y eliminar\n",
        "print(mi_lista)\n",
        "\n",
        "mi_lista.remove('Almacenes Éxito')\n",
        "print(mi_lista)"
      ],
      "metadata": {
        "id": "2QAUTqN1Kfqb",
        "outputId": "5fcc3918-fe72-46ec-cf2b-6e560f37fcd5",
        "colab": {
          "base_uri": "https://localhost:8080/"
        }
      },
      "execution_count": null,
      "outputs": [
        {
          "output_type": "stream",
          "name": "stdout",
          "text": [
            "['Mercado', True, ['Pan', 'Arroz', 'Carne'], 34.5, 'Almacenes Éxito', 'Almacenes Éxito', 'Almacenes Éxito', 'Almacenes Éxito', 'Almacenes Éxito']\n",
            "['Mercado', True, ['Pan', 'Arroz', 'Carne'], 34.5, 'Almacenes Éxito', 'Almacenes Éxito', 'Almacenes Éxito', 'Almacenes Éxito', 'Almacenes Éxito']\n",
            "['Mercado', True, ['Pan', 'Arroz', 'Carne'], 34.5, 'Almacenes Éxito', 'Almacenes Éxito', 'Almacenes Éxito', 'Almacenes Éxito']\n"
          ]
        }
      ]
    },
    {
      "cell_type": "code",
      "source": [],
      "metadata": {
        "id": "CkKDG6gXMNAI"
      },
      "execution_count": null,
      "outputs": []
    },
    {
      "cell_type": "code",
      "source": [
        "mi_lista.remove('Almacenes Éxito')\n",
        "print(mi_lista)"
      ],
      "metadata": {
        "id": "QVpI_8_RMCto",
        "outputId": "ffec7e70-dd60-4d00-ea6a-21b752c6d18b",
        "colab": {
          "base_uri": "https://localhost:8080/"
        }
      },
      "execution_count": null,
      "outputs": [
        {
          "output_type": "stream",
          "name": "stdout",
          "text": [
            "['Mercado', True, ['Pan', 'Arroz', 'Carne'], 34.5, 'Almacenes Éxito', 'Almacenes Éxito']\n"
          ]
        }
      ]
    },
    {
      "cell_type": "code",
      "source": [
        "print(mi_lista)\n",
        "\n",
        "mi_lista.pop(3)\n",
        "print(mi_lista)"
      ],
      "metadata": {
        "id": "YKuc7qFKMIAJ",
        "outputId": "2b89a2e5-6df5-41a5-ee61-2fe1456dbfed",
        "colab": {
          "base_uri": "https://localhost:8080/"
        }
      },
      "execution_count": null,
      "outputs": [
        {
          "output_type": "stream",
          "name": "stdout",
          "text": [
            "['Mercado', True, ['Pan', 'Arroz', 'Carne'], 34.5, 'Almacenes Éxito', 'Almacenes Éxito']\n",
            "['Mercado', True, ['Pan', 'Arroz', 'Carne'], 'Almacenes Éxito', 'Almacenes Éxito']\n"
          ]
        }
      ]
    },
    {
      "cell_type": "code",
      "source": [
        "mi_lista[2].pop(0)\n",
        "mi_lista"
      ],
      "metadata": {
        "id": "Aqgx7qK6M2Io",
        "outputId": "6a6100fb-ad29-4d73-b888-59d5f1b09b35",
        "colab": {
          "base_uri": "https://localhost:8080/"
        }
      },
      "execution_count": null,
      "outputs": [
        {
          "output_type": "execute_result",
          "data": {
            "text/plain": [
              "['Mercado', True, ['Arroz', 'Carne'], 'Almacenes Éxito', 'Almacenes Éxito']"
            ]
          },
          "metadata": {},
          "execution_count": 13
        }
      ]
    },
    {
      "cell_type": "code",
      "source": [
        "mi_lista[2].append('Leche')\n",
        "mi_lista"
      ],
      "metadata": {
        "id": "9enC61joNd6E",
        "outputId": "7ffa7111-79a4-433f-9699-703c61161f20",
        "colab": {
          "base_uri": "https://localhost:8080/"
        }
      },
      "execution_count": null,
      "outputs": [
        {
          "output_type": "execute_result",
          "data": {
            "text/plain": [
              "['Mercado',\n",
              " True,\n",
              " ['Arroz', 'Pescado', 'Leche'],\n",
              " 'Almacenes Éxito',\n",
              " 'Almacenes Éxito']"
            ]
          },
          "metadata": {},
          "execution_count": 18
        }
      ]
    },
    {
      "cell_type": "code",
      "source": [
        "mi_lista[2].remove('Pescado')\n",
        "mi_lista[2].insert(1,'Condimentos')\n",
        "mi_lista"
      ],
      "metadata": {
        "id": "k-ZzMQGfNtvn",
        "outputId": "57fd3f07-c2d8-409a-b0d5-f5b0e14a1ffd",
        "colab": {
          "base_uri": "https://localhost:8080/"
        }
      },
      "execution_count": null,
      "outputs": [
        {
          "output_type": "execute_result",
          "data": {
            "text/plain": [
              "['Mercado',\n",
              " True,\n",
              " ['Arroz', 'Condimentos', 'Carne'],\n",
              " 'Almacenes Éxito',\n",
              " 'Almacenes Éxito']"
            ]
          },
          "metadata": {},
          "execution_count": 21
        }
      ]
    },
    {
      "cell_type": "code",
      "source": [
        "# Indicar el nombre del mes cuando el usuario digite un número por teclado:\n"
      ],
      "metadata": {
        "id": "nosx7AknOcYw"
      },
      "execution_count": null,
      "outputs": []
    },
    {
      "cell_type": "code",
      "source": [
        "# Tuplas\n",
        "mi_tupla = (True, 2, 2.3, \"Talento Tech\")\n",
        "mi_tupla"
      ],
      "metadata": {
        "id": "NNnPRKxefPqU"
      },
      "execution_count": null,
      "outputs": []
    },
    {
      "cell_type": "code",
      "source": [
        "mi_dicc[\"item\"]\n",
        "mi_dicc[\"item\"][2]"
      ],
      "metadata": {
        "id": "A-k_gq5Fj9nA"
      },
      "execution_count": null,
      "outputs": []
    },
    {
      "cell_type": "code",
      "source": [
        "mi_dicc = {\n",
        "    \"texto\" 33,\n",
        "    3 : \"Hola\",\n",
        "    True : False,\n",
        "    \"item\": [1,2,3,4],\n",
        "}"
      ],
      "metadata": {
        "id": "ZV6ny_mZldCj",
        "outputId": "b574df61-978b-49bb-e59c-a42dfb42d6d5",
        "colab": {
          "base_uri": "https://localhost:8080/",
          "height": 106
        }
      },
      "execution_count": 3,
      "outputs": [
        {
          "output_type": "error",
          "ename": "SyntaxError",
          "evalue": "invalid syntax. Perhaps you forgot a comma? (<ipython-input-3-6be392a88956>, line 2)",
          "traceback": [
            "\u001b[0;36m  File \u001b[0;32m\"<ipython-input-3-6be392a88956>\"\u001b[0;36m, line \u001b[0;32m2\u001b[0m\n\u001b[0;31m    \"texto\" 33,\u001b[0m\n\u001b[0m    ^\u001b[0m\n\u001b[0;31mSyntaxError\u001b[0m\u001b[0;31m:\u001b[0m invalid syntax. Perhaps you forgot a comma?\n"
          ]
        }
      ]
    },
    {
      "cell_type": "code",
      "source": [],
      "metadata": {
        "id": "DFO9t26XmxXq"
      },
      "execution_count": null,
      "outputs": []
    },
    {
      "cell_type": "code",
      "source": [
        "mi_dicc.keys()"
      ],
      "metadata": {
        "id": "G0pw4ZXlkSPo",
        "outputId": "96bc9a6a-c9dd-4c1a-ffb4-9dbbb2c5859c",
        "colab": {
          "base_uri": "https://localhost:8080/",
          "height": 141
        }
      },
      "execution_count": 1,
      "outputs": [
        {
          "output_type": "error",
          "ename": "NameError",
          "evalue": "name 'mi_dicc' is not defined",
          "traceback": [
            "\u001b[0;31m---------------------------------------------------------------------------\u001b[0m",
            "\u001b[0;31mNameError\u001b[0m                                 Traceback (most recent call last)",
            "\u001b[0;32m<ipython-input-1-1ed0cc657d64>\u001b[0m in \u001b[0;36m<cell line: 0>\u001b[0;34m()\u001b[0m\n\u001b[0;32m----> 1\u001b[0;31m \u001b[0mmi_dicc\u001b[0m\u001b[0;34m.\u001b[0m\u001b[0mkeys\u001b[0m\u001b[0;34m(\u001b[0m\u001b[0;34m)\u001b[0m\u001b[0;34m\u001b[0m\u001b[0;34m\u001b[0m\u001b[0m\n\u001b[0m",
            "\u001b[0;31mNameError\u001b[0m: name 'mi_dicc' is not defined"
          ]
        }
      ]
    },
    {
      "cell_type": "code",
      "source": [
        "mi_dicc.get(\"item\")"
      ],
      "metadata": {
        "id": "TtWInCW6lO00",
        "outputId": "fff0274d-45aa-426a-92cf-1e6cc6eb39f2",
        "colab": {
          "base_uri": "https://localhost:8080/",
          "height": 141
        }
      },
      "execution_count": 4,
      "outputs": [
        {
          "output_type": "error",
          "ename": "NameError",
          "evalue": "name 'mi_dicc' is not defined",
          "traceback": [
            "\u001b[0;31m---------------------------------------------------------------------------\u001b[0m",
            "\u001b[0;31mNameError\u001b[0m                                 Traceback (most recent call last)",
            "\u001b[0;32m<ipython-input-4-40426fdc889e>\u001b[0m in \u001b[0;36m<cell line: 0>\u001b[0;34m()\u001b[0m\n\u001b[0;32m----> 1\u001b[0;31m \u001b[0mmi_dicc\u001b[0m\u001b[0;34m.\u001b[0m\u001b[0mget\u001b[0m\u001b[0;34m(\u001b[0m\u001b[0;34m\"item\"\u001b[0m\u001b[0;34m)\u001b[0m\u001b[0;34m\u001b[0m\u001b[0;34m\u001b[0m\u001b[0m\n\u001b[0m",
            "\u001b[0;31mNameError\u001b[0m: name 'mi_dicc' is not defined"
          ]
        }
      ]
    },
    {
      "cell_type": "code",
      "source": [
        "# Definicion de función:\n",
        "def mi_funcion():\n",
        "  msj = \"Hola Mundo\"\n",
        "  return msj"
      ],
      "metadata": {
        "id": "bHlz4_z3mzl5"
      },
      "execution_count": 6,
      "outputs": []
    },
    {
      "cell_type": "code",
      "source": [
        "mi_funcion()"
      ],
      "metadata": {
        "id": "qs25xycQnyYv",
        "outputId": "d7f4fa99-c3cd-4f1f-e1fb-a9bbbbddddfd",
        "colab": {
          "base_uri": "https://localhost:8080/",
          "height": 36
        }
      },
      "execution_count": 9,
      "outputs": [
        {
          "output_type": "execute_result",
          "data": {
            "text/plain": [
              "'Hola Mundo'"
            ],
            "application/vnd.google.colaboratory.intrinsic+json": {
              "type": "string"
            }
          },
          "metadata": {},
          "execution_count": 9
        }
      ]
    },
    {
      "cell_type": "code",
      "source": [
        "def calculadora_dos_num(num1, num2, operacion):\n",
        "  \"\"\"\n",
        "    Esta función realiza operaciones aritmeticas entre 2 numeros\n",
        "\n",
        "    Parametros:\n",
        "    num1: int, float\n",
        "    num2: int, float\n",
        "    operacion: str, lower case\n",
        "\n",
        "    return:\n",
        "    resultado: int, float\n",
        "  \"\"\"\n",
        "  if operacion == 'suma':\n",
        "    resultado = num1 + num2\n",
        "  elif operacion == 'resta':\n",
        "    resultado = num1 - num2\n",
        "  elif operacion == 'multiplicacion':\n",
        "    resultado = num1 * num2\n",
        "  elif operacion == 'division':\n",
        "    resultado = num1 / num2\n",
        "\n",
        "  return resultado"
      ],
      "metadata": {
        "id": "wAIfQ2Tin32p"
      },
      "execution_count": 12,
      "outputs": []
    },
    {
      "cell_type": "code",
      "source": [
        "calculadora_dos_num(3,3.4, \"division\")"
      ],
      "metadata": {
        "id": "ajA7dG0RqQKr",
        "outputId": "375a3481-e77a-4137-d0bc-81e8c16b0325",
        "colab": {
          "base_uri": "https://localhost:8080/"
        }
      },
      "execution_count": 15,
      "outputs": [
        {
          "output_type": "execute_result",
          "data": {
            "text/plain": [
              "0.8823529411764706"
            ]
          },
          "metadata": {},
          "execution_count": 15
        }
      ]
    },
    {
      "cell_type": "code",
      "source": [
        "# Crear una función llamada \"division\", que reciba como parámetros dos números enteros y devuelva como\n",
        "# resultado un número real, que sea el resultado de dividir el primer número entre el segundo (con decimales).\n",
        "\n",
        "def division(num1, num2):\n"
      ],
      "metadata": {
        "id": "COelGaUH1DGq",
        "outputId": "8a0b55e4-0bda-495d-d533-c7336e980826",
        "colab": {
          "base_uri": "https://localhost:8080/",
          "height": 106
        }
      },
      "execution_count": 17,
      "outputs": [
        {
          "output_type": "error",
          "ename": "SyntaxError",
          "evalue": "incomplete input (<ipython-input-17-9fe09dfc7cc9>, line 4)",
          "traceback": [
            "\u001b[0;36m  File \u001b[0;32m\"<ipython-input-17-9fe09dfc7cc9>\"\u001b[0;36m, line \u001b[0;32m4\u001b[0m\n\u001b[0;31m    def division(num1, num2):\u001b[0m\n\u001b[0m                             ^\u001b[0m\n\u001b[0;31mSyntaxError\u001b[0m\u001b[0;31m:\u001b[0m incomplete input\n"
          ]
        }
      ]
    },
    {
      "cell_type": "code",
      "source": [
        "def suma(a, b):\n",
        "  suma = a+b\n",
        "  return suma\n",
        "\n",
        "a = int(input(\"Ingrese un número: \"))\n",
        "b = int(input(\"Ingrese otro número: \"))\n",
        "\n",
        "resultado = suma(a,b)\n",
        "print(resultado)"
      ],
      "metadata": {
        "id": "N_u47HJN48Wn"
      },
      "execution_count": null,
      "outputs": []
    },
    {
      "cell_type": "code",
      "source": [
        "# prompt: Crear una función llamada \"division\", que reciba como parámetros dos números enteros y devuelva como\n",
        "# resultado un número real, que sea el resultado de dividir el primer número entre el segundo (con decimales).\n",
        "\n",
        "def division(num1, num2):\n",
        "  \"\"\"\n",
        "    Esta función divide dos números enteros y devuelve el resultado como un número real.\n",
        "\n",
        "    Parámetros:\n",
        "    num1 (int): El numerador.\n",
        "    num2 (int): El denominador.\n",
        "\n",
        "    Retorna:\n",
        "    float: El resultado de la división de num1 entre num2.\n",
        "  \"\"\"\n",
        "  if num2 == 0:\n",
        "    return \"Error: División por cero no permitida.\"\n",
        "  else:\n",
        "    return float(num1 / num2)"
      ],
      "metadata": {
        "id": "7VsEd3h95nqI"
      },
      "execution_count": null,
      "outputs": []
    },
    {
      "cell_type": "markdown",
      "source": [
        "# Módulo 3 - Fundamentos de Programación en Python\n",
        "* Condiciones y Ramificaciones\n",
        "* Bucles\n",
        "* Funciones\n",
        "* Objetos y Clases\n",
        "\n"
      ],
      "metadata": {
        "id": "FokDnv7JhFK-"
      }
    },
    {
      "cell_type": "code",
      "source": [],
      "metadata": {
        "id": "CFmrHQNihHQx"
      },
      "execution_count": null,
      "outputs": []
    },
    {
      "cell_type": "markdown",
      "source": [
        "# Módulo 4 - Trabajando con Datos en Python\n",
        "* Lectura de archivos con open\n",
        "* Escritura de archivos con open\n",
        "* Carga de datos con Pandas\n",
        "* Trabajo y Guardado de datos con Pandas\n",
        "\n"
      ],
      "metadata": {
        "id": "QbLvA22khHjF"
      }
    },
    {
      "cell_type": "code",
      "source": [],
      "metadata": {
        "id": "HT8U_juAhJZT"
      },
      "execution_count": null,
      "outputs": []
    },
    {
      "cell_type": "markdown",
      "source": [
        "# Módulo 5 - Trabajando con Arreglos Numpy y APIs Simples\n",
        "* Arreglos 1D de Numpy\n",
        "* Arreglos 2D de Numpy\n",
        "* APIs Simples\n",
        "* Configuración de API"
      ],
      "metadata": {
        "id": "2ltygOrWhJs3"
      }
    },
    {
      "cell_type": "code",
      "source": [],
      "metadata": {
        "id": "IlD_fhnuhNLX"
      },
      "execution_count": null,
      "outputs": []
    }
  ]
}