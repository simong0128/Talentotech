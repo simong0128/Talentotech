{
  "nbformat": 4,
  "nbformat_minor": 0,
  "metadata": {
    "colab": {
      "provenance": []
    },
    "kernelspec": {
      "name": "python3",
      "display_name": "Python 3"
    },
    "language_info": {
      "name": "python"
    }
  },
  "cells": [
    {
      "cell_type": "markdown",
      "source": [
        "# Módulo 1 - Fundamentos de Python\n",
        "* Tu primer programa\n",
        "* Tipos\n",
        "* Expresiones y Variables\n",
        "* Operaciones con Cadenas\n",
        "\n"
      ],
      "metadata": {
        "id": "PR71j5u7gZVv"
      }
    },
    {
      "cell_type": "code",
      "execution_count": null,
      "metadata": {
        "id": "cxIre3kqgWis"
      },
      "outputs": [],
      "source": []
    },
    {
      "cell_type": "markdown",
      "source": [
        "# Módulo 2 - Estructuras de Datos en Python\n",
        "* Listas y Tuplas\n",
        "* Conjuntos\n",
        "* Diccionarios\n",
        "\n"
      ],
      "metadata": {
        "id": "nCfOwdP3hC3E"
      }
    },
    {
      "cell_type": "code",
      "source": [
        "mi_lista = ['Mercado',  20000, True, ['Pan', ' Arroz', 'Carne'], 34.5]\n",
        "mi_lista"
      ],
      "metadata": {
        "id": "8BwvDdKQhEys",
        "outputId": "b1846e02-3887-40ee-b784-5ad7a33055c6",
        "colab": {
          "base_uri": "https://localhost:8080/"
        }
      },
      "execution_count": null,
      "outputs": [
        {
          "output_type": "execute_result",
          "data": {
            "text/plain": [
              "['Mercado', 20000, True, ['Pan', ' Arroz', 'Carne'], 34.5]"
            ]
          },
          "metadata": {},
          "execution_count": 2
        }
      ]
    },
    {
      "cell_type": "code",
      "source": [],
      "metadata": {
        "id": "J0JwEHZ_PEuD"
      },
      "execution_count": null,
      "outputs": []
    },
    {
      "cell_type": "code",
      "source": [
        "# Métodos de Listas:\n",
        "# Agregar Elementos de la lista:\n",
        "mi_lista.append('Almacenes Exito')\n",
        "print(mi_lista)\n",
        "\n",
        "#Eliminar cualquier elemento de la lista\n",
        "mi_lista.remove(20000)"
      ],
      "metadata": {
        "id": "WGgVL0A0Kk8d"
      },
      "execution_count": null,
      "outputs": []
    },
    {
      "cell_type": "code",
      "source": [
        "#Indicar el numero del mes cuando el usuario digite un numero por teclado\n",
        "meses = ['Enero', 'Febrero', 'Marzo', 'Abril', 'Mayo', 'Junio', 'Julio', 'Agosto', 'Septiembre', 'Octubre', 'Noviembre', 'Diciembre']\n",
        "\n",
        "valor_usuario = int(input('Digite el número para validar el mes: '))\n",
        "\n",
        "if valor_usuario > 0 and valor_usuario <= 12:\n",
        "  print(meses[valor_usuario - 1])\n",
        "else:\n",
        "  print('El número ingresado no corresponde a un mes')"
      ],
      "metadata": {
        "id": "YwMuppEbPRJv",
        "outputId": "9d53d934-bc3f-4f0e-8767-46c5478659f2",
        "colab": {
          "base_uri": "https://localhost:8080/"
        }
      },
      "execution_count": null,
      "outputs": [
        {
          "output_type": "stream",
          "name": "stdout",
          "text": [
            "Digite el número para validar el mes: 6\n",
            "Junio\n"
          ]
        }
      ]
    },
    {
      "cell_type": "code",
      "source": [
        "#Indicar que numero de mes es, el nombre de mes que el usuario ingrese por teclado:\n",
        "\n",
        "mes_usuario = input('Digite el nombre del mes: ')\n",
        "\n",
        "if mes_usuario in meses:\n",
        "  print(meses.index(mes_usuario) + 1)\n",
        "else:\n",
        "  print('El mes ingresado no existe')"
      ],
      "metadata": {
        "id": "WiECEDr0Pmgq",
        "outputId": "238f4536-ce49-4760-f9cb-c80caa66611a",
        "colab": {
          "base_uri": "https://localhost:8080/"
        }
      },
      "execution_count": null,
      "outputs": [
        {
          "output_type": "stream",
          "name": "stdout",
          "text": [
            "Digite el nombre del mes: Febrero\n",
            "2\n"
          ]
        }
      ]
    },
    {
      "cell_type": "code",
      "source": [
        "#Calcular el promedio de 50 valores almacenados en un vector. Determinar además cuantos son mayores que el promedio, imprimir el promedio, el número de datos mayores que el promedio y una lista de valores mayores que el promedio.\n"
      ],
      "metadata": {
        "id": "TCV32BOBTIko"
      },
      "execution_count": null,
      "outputs": []
    },
    {
      "cell_type": "code",
      "source": [
        "# prompt: crear un lista con valores enteros aleatorios\n",
        "\n",
        "import random\n",
        "\n",
        "# Crear una lista con 50 valores enteros aleatorios entre 1 y 100\n",
        "vector = [random.randint(1, 100) for _ in range(50)]\n",
        "\n",
        "vector"
      ],
      "metadata": {
        "id": "paBPN2thVAQb"
      },
      "execution_count": null,
      "outputs": []
    },
    {
      "cell_type": "code",
      "source": [
        "import random\n",
        "\n",
        "the_lista = [random.randint(1, 1000) for _ in range(50)]\n",
        "the_lista"
      ],
      "metadata": {
        "colab": {
          "base_uri": "https://localhost:8080/"
        },
        "id": "pzFfoZ256GGf",
        "outputId": "8c1e135f-f7ba-44c9-b9b0-14f619e10c39"
      },
      "execution_count": 6,
      "outputs": [
        {
          "output_type": "execute_result",
          "data": {
            "text/plain": [
              "[530,\n",
              " 757,\n",
              " 219,\n",
              " 842,\n",
              " 721,\n",
              " 507,\n",
              " 9,\n",
              " 17,\n",
              " 91,\n",
              " 214,\n",
              " 75,\n",
              " 799,\n",
              " 323,\n",
              " 946,\n",
              " 24,\n",
              " 537,\n",
              " 320,\n",
              " 284,\n",
              " 868,\n",
              " 826,\n",
              " 196,\n",
              " 562,\n",
              " 75,\n",
              " 673,\n",
              " 120,\n",
              " 866,\n",
              " 777,\n",
              " 290,\n",
              " 894,\n",
              " 927,\n",
              " 491,\n",
              " 511,\n",
              " 467,\n",
              " 171,\n",
              " 73,\n",
              " 757,\n",
              " 654,\n",
              " 58,\n",
              " 78,\n",
              " 474,\n",
              " 896,\n",
              " 9,\n",
              " 390,\n",
              " 974,\n",
              " 208,\n",
              " 584,\n",
              " 326,\n",
              " 10,\n",
              " 674,\n",
              " 584]"
            ]
          },
          "metadata": {},
          "execution_count": 6
        }
      ]
    },
    {
      "cell_type": "code",
      "source": [
        "cantidad_elementos = len(the_lista)\n",
        "cantidad_elementos"
      ],
      "metadata": {
        "colab": {
          "base_uri": "https://localhost:8080/"
        },
        "id": "bfMCqvMX7b-C",
        "outputId": "b89bbce6-2188-4075-fda3-1e425a548858"
      },
      "execution_count": 8,
      "outputs": [
        {
          "output_type": "execute_result",
          "data": {
            "text/plain": [
              "50"
            ]
          },
          "metadata": {},
          "execution_count": 8
        }
      ]
    },
    {
      "cell_type": "code",
      "source": [
        "suma_elementos = sum(the_lista)\n",
        "suma_elementos"
      ],
      "metadata": {
        "colab": {
          "base_uri": "https://localhost:8080/"
        },
        "id": "wWVCCMBG8Hmb",
        "outputId": "e24cca63-e488-491e-f349-ce4b97ca65f8"
      },
      "execution_count": 10,
      "outputs": [
        {
          "output_type": "execute_result",
          "data": {
            "text/plain": [
              "22678"
            ]
          },
          "metadata": {},
          "execution_count": 10
        }
      ]
    },
    {
      "cell_type": "code",
      "source": [
        "promedio_lista = suma_elementos / cantidad_elementos\n",
        "promedio_lista"
      ],
      "metadata": {
        "colab": {
          "base_uri": "https://localhost:8080/"
        },
        "id": "0a-X5Eaj9qKW",
        "outputId": "723534ef-0843-44a7-c37d-c15a4b56983b"
      },
      "execution_count": 12,
      "outputs": [
        {
          "output_type": "execute_result",
          "data": {
            "text/plain": [
              "453.56"
            ]
          },
          "metadata": {},
          "execution_count": 12
        }
      ]
    },
    {
      "cell_type": "code",
      "source": [
        "# Determinar los mayores que el promedio\n",
        "mayores_promedio = 0\n",
        "lista_elementos_mayores_avg = []\n",
        "\n",
        "for item in the_lista:\n",
        "  # validamos si el elemento es mayor al promedio.\n",
        "  if item > promedio_lista:\n",
        "    mayores_promedio += 1\n",
        "    lista_elementos_mayores_avg.append(item)\n",
        "\n",
        "print(promedio_lista)\n",
        "print(mayores_promedio)\n",
        "print(lista_elementos_mayores_avg)"
      ],
      "metadata": {
        "colab": {
          "base_uri": "https://localhost:8080/"
        },
        "id": "WCYf0pe198QT",
        "outputId": "17aa8607-b42b-4f16-ce24-44d62beec143"
      },
      "execution_count": 16,
      "outputs": [
        {
          "output_type": "stream",
          "name": "stdout",
          "text": [
            "453.56\n",
            "27\n",
            "[530, 757, 842, 721, 507, 799, 946, 537, 868, 826, 562, 673, 866, 777, 894, 927, 491, 511, 467, 757, 654, 474, 896, 974, 584, 674, 584]\n"
          ]
        }
      ]
    },
    {
      "cell_type": "code",
      "source": [
        "#Calcular el mayor de tres números enteros introducidos por teclado\n",
        "num1 = int(input('Digite el primer número: ' ))\n",
        "num2 = int(input('Digite el segundo número: '))\n",
        "num3 = int(input('Digite el tercer número: '))\n",
        "\n",
        "if num1 >= num2 and num1 >= num3:\n",
        "  print(f'El número mayor es: {num1}')\n",
        "  if num2 >= num3 and num1 >=num3:\n",
        "    print(f'el número mayor es: {num2}')\n",
        "  if num3 >= num2 and num1 >= num3:\n",
        "    print(f'el número mayor es: {num3}')"
      ],
      "metadata": {
        "colab": {
          "base_uri": "https://localhost:8080/"
        },
        "id": "nnl381L1CGPk",
        "outputId": "9b58f557-df79-404f-97a7-58fa9a34a1db"
      },
      "execution_count": 18,
      "outputs": [
        {
          "output_type": "stream",
          "name": "stdout",
          "text": [
            "Digite el primer número: 10\n",
            "Digite el segundo número: 15\n",
            "Digite el tercer número: 80\n",
            "El número mayor es: 15\n"
          ]
        }
      ]
    },
    {
      "cell_type": "markdown",
      "source": [
        "# Módulo 3 - Fundamentos de Programación en Python\n",
        "* Condiciones y Ramificaciones\n",
        "* Bucles\n",
        "* Funciones\n",
        "* Objetos y Clases\n",
        "\n"
      ],
      "metadata": {
        "id": "FokDnv7JhFK-"
      }
    },
    {
      "cell_type": "code",
      "source": [],
      "metadata": {
        "id": "CFmrHQNihHQx"
      },
      "execution_count": null,
      "outputs": []
    },
    {
      "cell_type": "markdown",
      "source": [
        "# Módulo 4 - Trabajando con Datos en Python\n",
        "* Lectura de archivos con open\n",
        "* Escritura de archivos con open\n",
        "* Carga de datos con Pandas\n",
        "* Trabajo y Guardado de datos con Pandas\n",
        "\n"
      ],
      "metadata": {
        "id": "QbLvA22khHjF"
      }
    },
    {
      "cell_type": "code",
      "source": [],
      "metadata": {
        "id": "HT8U_juAhJZT"
      },
      "execution_count": null,
      "outputs": []
    },
    {
      "cell_type": "markdown",
      "source": [
        "# Módulo 5 - Trabajando con Arreglos Numpy y APIs Simples\n",
        "* Arreglos 1D de Numpy\n",
        "* Arreglos 2D de Numpy\n",
        "* APIs Simples\n",
        "* Configuración de API"
      ],
      "metadata": {
        "id": "2ltygOrWhJs3"
      }
    },
    {
      "cell_type": "code",
      "source": [],
      "metadata": {
        "id": "IlD_fhnuhNLX"
      },
      "execution_count": null,
      "outputs": []
    }
  ]
}